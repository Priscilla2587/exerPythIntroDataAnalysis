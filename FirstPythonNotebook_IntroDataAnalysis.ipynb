{
  "cells": [
    {
      "cell_type": "markdown",
      "metadata": {
        "id": "Xb044XD8OKAh"
      },
      "source": [
        "# First Python Notebook - Introduction to Data Analysis\n",
        "\n",
        "* Follow the tutorial at https://www.youtube.com/watch?v=a9UrKTVEeZA&list=PLG9A6ovzPqX6d9uWzx0UYN9pm0zzl5ofA&index=13&t=0s"
      ]
    },
    {
      "cell_type": "code",
      "execution_count": null,
      "metadata": {
        "id": "vMtU4TCtOKAi"
      },
      "outputs": [],
      "source": [
        "# Your code starts here."
      ]
    },
    {
      "cell_type": "code",
      "source": [],
      "metadata": {
        "id": "0o0Qi7zNOL-M"
      },
      "execution_count": null,
      "outputs": []
    }
  ],
  "metadata": {
    "kernelspec": {
      "display_name": "Python 3.7.0 64-bit ('ProgramData': virtualenv)",
      "language": "python",
      "name": "python37064bitprogramdatavirtualenv91a3a06a699c4ac2baf19c5628a799d3"
    },
    "language_info": {
      "codemirror_mode": {
        "name": "ipython",
        "version": 3
      },
      "file_extension": ".py",
      "mimetype": "text/x-python",
      "name": "python",
      "nbconvert_exporter": "python",
      "pygments_lexer": "ipython3",
      "version": "3.7.6"
    },
    "colab": {
      "provenance": []
    }
  },
  "nbformat": 4,
  "nbformat_minor": 0
}